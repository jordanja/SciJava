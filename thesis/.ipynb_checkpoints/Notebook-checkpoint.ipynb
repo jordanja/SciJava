{
 "cells": [
  {
   "cell_type": "code",
   "execution_count": 2,
   "metadata": {},
   "outputs": [
    {
     "ename": "CompilationException",
     "evalue": "",
     "output_type": "error",
     "traceback": [
      "\u001b[1m\u001b[30m|   \u001b[1m\u001b[30mimport \u001b[0m\u001b[1m\u001b[30m\u001b[41mthesis.DataFrame\u001b[0m\u001b[1m\u001b[30m;\u001b[0m",
      "\u001b[1m\u001b[31mpackage thesis does not exist\u001b[0m",
      ""
     ]
    }
   ],
   "source": [
    "import thesis.DataFrame.*;"
   ]
  },
  {
   "cell_type": "code",
   "execution_count": 2,
   "metadata": {},
   "outputs": [
    {
     "data": {
      "text/plain": [
       "true"
      ]
     },
     "execution_count": 2,
     "metadata": {},
     "output_type": "execute_result"
    }
   ],
   "source": [
    "HashMap<String,Object> map1 = new HashMap<String,Object>();\n",
    "map1.put(\"one\",1);\n",
    "map1.put(\"two\",2);\n",
    "map1.put(\"three\",3);\n",
    "\n",
    "HashMap<String,Object> map2 = new HashMap<String,Object>();\n",
    "map2.put(\"one\",10);\n",
    "map2.put(\"two\",20);\n",
    "map2.put(\"three\",30);\n",
    "\n",
    "ArrayList<HashMap<String,Object>> list = new ArrayList<HashMap<String,Object>>();\n",
    "list.add(map1);\n",
    "list.add(map2);"
   ]
  },
  {
   "cell_type": "code",
   "execution_count": 6,
   "metadata": {},
   "outputs": [
    {
     "name": "stdout",
     "output_type": "stream",
     "text": [
      "[{one=1, two=2, three=3}, {one=10, two=20, three=30}]\n"
     ]
    }
   ],
   "source": [
    "System.out.println(list);"
   ]
  },
  {
   "cell_type": "code",
   "execution_count": 5,
   "metadata": {},
   "outputs": [
    {
     "ename": "CompilationException",
     "evalue": "",
     "output_type": "error",
     "traceback": [
      "\u001b[1m\u001b[30m|   \u001b[1m\u001b[30m\u001b[0m\u001b[1m\u001b[30m\u001b[41mDataFrame\u001b[0m\u001b[1m\u001b[30m df = new DataFrame(list);\u001b[0m",
      "\u001b[1m\u001b[31mcannot find symbol\u001b[0m",
      "\u001b[1m\u001b[31m  symbol:   class DataFrame\u001b[0m",
      "",
      "\u001b[1m\u001b[30m|   \u001b[1m\u001b[30mDataFrame df = new \u001b[0m\u001b[1m\u001b[30m\u001b[41mDataFrame\u001b[0m\u001b[1m\u001b[30m(list);\u001b[0m",
      "\u001b[1m\u001b[31mcannot find symbol\u001b[0m",
      "\u001b[1m\u001b[31m  symbol:   class DataFrame\u001b[0m",
      ""
     ]
    }
   ],
   "source": [
    "DataFrame df = new DataFrame(list);"
   ]
  },
  {
   "cell_type": "code",
   "execution_count": null,
   "metadata": {},
   "outputs": [],
   "source": []
  }
 ],
 "metadata": {
  "kernelspec": {
   "display_name": "Java",
   "language": "java",
   "name": "java"
  },
  "language_info": {
   "codemirror_mode": "java",
   "file_extension": ".jshell",
   "mimetype": "text/x-java-source",
   "name": "Java",
   "pygments_lexer": "java",
   "version": "13+33"
  }
 },
 "nbformat": 4,
 "nbformat_minor": 2
}
